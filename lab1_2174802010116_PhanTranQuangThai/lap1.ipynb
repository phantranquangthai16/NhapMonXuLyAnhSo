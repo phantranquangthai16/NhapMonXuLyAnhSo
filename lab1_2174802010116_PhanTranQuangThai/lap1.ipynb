{
 "cells": [
  {
   "cell_type": "markdown",
   "id": "74cb2c28",
   "metadata": {},
   "source": [
    "### Bài 1: Nạp ảnh và lưu thành 3 ảnh với 3 màu khác nhau"
   ]
  },
  {
   "cell_type": "code",
   "execution_count": 9,
   "id": "c80b3e1f",
   "metadata": {},
   "outputs": [
    {
     "name": "stderr",
     "output_type": "stream",
     "text": [
      "Matplotlib is building the font cache; this may take a moment.\n"
     ]
    },
    {
     "data": {
      "text/plain": [
       "True"
      ]
     },
     "execution_count": 9,
     "metadata": {},
     "output_type": "execute_result"
    }
   ],
   "source": [
    "import cv2\n",
    "import numpy as np\n",
    "from matplotlib import pyplot as plt\n",
    "\n",
    "img = cv2.imread('bird.png')\n",
    "b, g, r = cv2.split(img)\n",
    "\n",
    "img_red = cv2.merge([np.zeros_like(b), np.zeros_like(g), r])\n",
    "img_green = cv2.merge([np.zeros_like(b), g, np.zeros_like(r)])\n",
    "img_blue = cv2.merge([b, np.zeros_like(g), np.zeros_like(r)])\n",
    "\n",
    "cv2.imwrite('bird_red.png', img_red)\n",
    "cv2.imwrite('bird_green.png', img_green)\n",
    "cv2.imwrite('bird_blue.png', img_blue)\n"
   ]
  },
  {
   "cell_type": "markdown",
   "id": "5bcaac29",
   "metadata": {},
   "source": [
    "### Bài 2: Hoán đổi giá trị các màu và lưu ảnh"
   ]
  },
  {
   "cell_type": "code",
   "execution_count": 10,
   "id": "2a9f27f7",
   "metadata": {},
   "outputs": [
    {
     "data": {
      "text/plain": [
       "True"
      ]
     },
     "execution_count": 10,
     "metadata": {},
     "output_type": "execute_result"
    }
   ],
   "source": [
    "\n",
    "img_swap = cv2.merge([r, g, b])\n",
    "cv2.imwrite('bird_swap.png', img_swap)\n"
   ]
  },
  {
   "cell_type": "markdown",
   "id": "7cfa4a20",
   "metadata": {},
   "source": [
    "### Bài 3: Chuyển sang hệ HSV và lưu thành 3 ảnh với 3 màu khác nhau"
   ]
  },
  {
   "cell_type": "code",
   "execution_count": 11,
   "id": "785e5c84",
   "metadata": {},
   "outputs": [
    {
     "data": {
      "text/plain": [
       "True"
      ]
     },
     "execution_count": 11,
     "metadata": {},
     "output_type": "execute_result"
    }
   ],
   "source": [
    "hsv = cv2.cvtColor(img, cv2.COLOR_BGR2HSV)\n",
    "h, s, v = cv2.split(hsv)\n",
    "\n",
    "cv2.imwrite('bird_H.png', h)\n",
    "cv2.imwrite('bird_S.png', s)\n",
    "cv2.imwrite('bird_V.png', v)\n"
   ]
  },
  {
   "cell_type": "markdown",
   "id": "b4b97c1b",
   "metadata": {},
   "source": [
    "### Bài 4: Chuyển sang HSV và chỉnh kênh H, V"
   ]
  },
  {
   "cell_type": "code",
   "execution_count": 12,
   "id": "f4f75c3b",
   "metadata": {},
   "outputs": [
    {
     "data": {
      "text/plain": [
       "True"
      ]
     },
     "execution_count": 12,
     "metadata": {},
     "output_type": "execute_result"
    }
   ],
   "source": [
    "h_new = (h // 3).astype(np.uint8)\n",
    "v_new = (v * 0.75).astype(np.uint8)\n",
    "\n",
    "hsv_modified = cv2.merge([h_new, s, v_new])\n",
    "bgr_modified = cv2.cvtColor(hsv_modified, cv2.COLOR_HSV2BGR)\n",
    "cv2.imwrite('bird_modified.png', bgr_modified)\n"
   ]
  },
  {
   "cell_type": "markdown",
   "id": "44e98896",
   "metadata": {},
   "source": [
    "### Bài 5: Sử dụng mean filter cho các hình trong thư mục 'Exercise'"
   ]
  },
  {
   "cell_type": "code",
   "execution_count": 13,
   "id": "240f396a",
   "metadata": {},
   "outputs": [],
   "source": [
    "import os\n",
    "\n",
    "folder_path = 'Exercise'\n",
    "output_path = 'Exercise_filtered'\n",
    "os.makedirs(output_path, exist_ok=True)\n",
    "\n",
    "for filename in os.listdir(folder_path):\n",
    "    if filename.lower().endswith(('.png', '.jpg', '.jpeg')):\n",
    "        path = os.path.join(folder_path, filename)\n",
    "        img = cv2.imread(path)\n",
    "        filtered = cv2.blur(img, (5, 5))  \n",
    "        cv2.imwrite(os.path.join(output_path, filename), filtered)\n"
   ]
  }
 ],
 "metadata": {
  "kernelspec": {
   "display_name": "Python 3",
   "language": "python",
   "name": "python3"
  },
  "language_info": {
   "codemirror_mode": {
    "name": "ipython",
    "version": 3
   },
   "file_extension": ".py",
   "mimetype": "text/x-python",
   "name": "python",
   "nbconvert_exporter": "python",
   "pygments_lexer": "ipython3",
   "version": "3.12.4"
  }
 },
 "nbformat": 4,
 "nbformat_minor": 5
}
